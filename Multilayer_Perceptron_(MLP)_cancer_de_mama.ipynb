{
  "nbformat": 4,
  "nbformat_minor": 0,
  "metadata": {
    "colab": {
      "name": "Multilayer_Perceptron_(MLP)_cancer_de_mama.ipynb",
      "provenance": [],
      "authorship_tag": "ABX9TyMWXt8UNVcjJ5MiTJJ09P6l",
      "include_colab_link": true
    },
    "kernelspec": {
      "name": "python3",
      "display_name": "Python 3"
    },
    "accelerator": "GPU"
  },
  "cells": [
    {
      "cell_type": "markdown",
      "metadata": {
        "id": "view-in-github",
        "colab_type": "text"
      },
      "source": [
        "<a href=\"https://colab.research.google.com/github/EddyGiusepe/Multilayer_Perceptron_MLP_cancer_de_mama/blob/main/Multilayer_Perceptron_(MLP)_cancer_de_mama.ipynb\" target=\"_parent\"><img src=\"https://colab.research.google.com/assets/colab-badge.svg\" alt=\"Open In Colab\"/></a>"
      ]
    },
    {
      "cell_type": "markdown",
      "metadata": {
        "id": "8K54Rg3fAK1N"
      },
      "source": [
        "# Redes Neurais - Previsão de Câncer de Mama (Benigno/Maligno)\r\n",
        "\r\n",
        "\r\n",
        "Tipos de [Redes Neurais](https://towardsdatascience.com/the-mostly-complete-chart-of-neural-networks-explained-3fb6f2367464)"
      ]
    },
    {
      "cell_type": "markdown",
      "metadata": {
        "id": "5-BlbtggBJPK"
      },
      "source": [
        "![alt text](https://miro.medium.com/max/1250/1*cuTSPlTq0a_327iTPJyD-Q.png)"
      ]
    },
    {
      "cell_type": "markdown",
      "metadata": {
        "id": "R-zmyihMCS2l"
      },
      "source": [
        "# Multilayer Perceptron (MLP)\r\n",
        "\r\n",
        "Este é um exemplo que pode ser encontrado [aqui também](https://www.youtube.com/watch?v=YH0HuJd-nj8)\r\n",
        "\r\n",
        "\\\\\r\n",
        "\r\n",
        "https://scikit-learn.org/stable/modules/generated/sklearn.neural_network.MLPClassifier.html\r\n",
        "\r\n",
        "\r\n",
        "As Redes Neurais são uma estrutura de aprendizado d máquina que tenta imitar o padrão de aprendizagem de redes neurais biológicas naturais. As redes neurais biológicas têm neurônios interconectados com dendritos que recebem entradas, e com base nessas entradas eles produzem um sinal de saída através de um axônio para outro neurônio. Vamos tentar imitar esse processo através do uso de Redes Neurais Artificiais (RNAs), que apenas nos referiremos como redes neurais a partir de agora. O processo de criação de uma rede neural começa com a forma mais básica, um único ``perceptron``.   \r\n",
        "\r\n",
        "\r\n",
        "Vamos começar nossa discussão falando sobre o Perceptron! \r\n",
        "\r\n",
        "Um Perceptron tem uma ou mais entradas, um viés (bias), uma função de ativação e uma única saída. O Perceptron recebe entradas, multiplica essas entradas por algum peso e passa-as para uma função de ativação para produzir uma saída. Há muitas funções de ativação possíveis tais como a função logística, uma função trigonométrica, uma função de step, etc. Também nos certificamos de adicionar um viés para o Perceptron, isso evita problemas onde todas as entradas poderiam ser iguais a zero (significado Nenhum peso multiplicativo teria um efeito). A seguir mostramos um Perceptron: "
      ]
    },
    {
      "cell_type": "markdown",
      "metadata": {
        "id": "b2NJy_jiHr6w"
      },
      "source": [
        "![alt text](https://www.kdnuggets.com/wp-content/uploads/perceptron.jpg)"
      ]
    },
    {
      "cell_type": "markdown",
      "metadata": {
        "id": "RpAa1XblIAEw"
      },
      "source": [
        "Uma vez que temos a saída podemos compará-lo com um rótulo conhecido e ajustar os pesos de acordo (os pesos normalmente começam com valores de inicialização aleatórios). Continuamos a repetir este processo até termos atingido um número máximo de iterações permitidas ou uma taxa de erro aceitável.\r\n",
        "\r\n",
        "\r\n",
        "Para criar uma rede neural, simplesmente começamos a adiconar camadas de Perceptrons juntos, criando um modelo de Perceptron multicamada de uma rede neural. Você terá uma camada de entrada que recebe diretamente suas entradas de atributos e uma camada de saída que criará as saídas resultantes. Quaisquer camadas intermediárias são conhecidas como camadas ocultas porque elas não \"veem\" diretamente as entradas ou saídas do atributo. \r\n",
        "\r\n"
      ]
    },
    {
      "cell_type": "markdown",
      "metadata": {
        "id": "j69bf1OVKcp9"
      },
      "source": [
        "![alt text](https://learnopencv.com/wp-content/uploads/2017/10/mlp-diagram.jpg)"
      ]
    },
    {
      "cell_type": "code",
      "metadata": {
        "id": "Rrj4U1jNBvd6"
      },
      "source": [
        "from sklearn.datasets import load_breast_cancer # Nossos Dados\r\n",
        "from sklearn.model_selection import train_test_split\r\n",
        "from sklearn.preprocessing import StandardScaler # Normalizar, padronizar (melhor desempenho de nosso modelo)\r\n"
      ],
      "execution_count": 3,
      "outputs": []
    },
    {
      "cell_type": "code",
      "metadata": {
        "id": "-p1OEW-_CFIr"
      },
      "source": [
        "# Objeto = cancer\r\n",
        "cancer = load_breast_cancer()\r\n",
        "\r\n",
        "# Nossos Dados está no formato de dicionário"
      ],
      "execution_count": 4,
      "outputs": []
    },
    {
      "cell_type": "code",
      "metadata": {
        "colab": {
          "base_uri": "https://localhost:8080/"
        },
        "id": "c9-kR850CFF8",
        "outputId": "21635ae6-28de-4271-ffd2-b2671a10d99b"
      },
      "source": [
        "cancer.keys()"
      ],
      "execution_count": 5,
      "outputs": [
        {
          "output_type": "execute_result",
          "data": {
            "text/plain": [
              "dict_keys(['data', 'target', 'target_names', 'DESCR', 'feature_names', 'filename'])"
            ]
          },
          "metadata": {
            "tags": []
          },
          "execution_count": 5
        }
      ]
    },
    {
      "cell_type": "code",
      "metadata": {
        "colab": {
          "base_uri": "https://localhost:8080/"
        },
        "id": "hjCr7GKkCFC9",
        "outputId": "81a25b08-fb0c-45a4-8195-2ac0496cffaf"
      },
      "source": [
        "# Descrição completa do dataset \r\n",
        "print(cancer['DESCR'])\r\n"
      ],
      "execution_count": 6,
      "outputs": [
        {
          "output_type": "stream",
          "text": [
            ".. _breast_cancer_dataset:\n",
            "\n",
            "Breast cancer wisconsin (diagnostic) dataset\n",
            "--------------------------------------------\n",
            "\n",
            "**Data Set Characteristics:**\n",
            "\n",
            "    :Number of Instances: 569\n",
            "\n",
            "    :Number of Attributes: 30 numeric, predictive attributes and the class\n",
            "\n",
            "    :Attribute Information:\n",
            "        - radius (mean of distances from center to points on the perimeter)\n",
            "        - texture (standard deviation of gray-scale values)\n",
            "        - perimeter\n",
            "        - area\n",
            "        - smoothness (local variation in radius lengths)\n",
            "        - compactness (perimeter^2 / area - 1.0)\n",
            "        - concavity (severity of concave portions of the contour)\n",
            "        - concave points (number of concave portions of the contour)\n",
            "        - symmetry \n",
            "        - fractal dimension (\"coastline approximation\" - 1)\n",
            "\n",
            "        The mean, standard error, and \"worst\" or largest (mean of the three\n",
            "        largest values) of these features were computed for each image,\n",
            "        resulting in 30 features.  For instance, field 3 is Mean Radius, field\n",
            "        13 is Radius SE, field 23 is Worst Radius.\n",
            "\n",
            "        - class:\n",
            "                - WDBC-Malignant\n",
            "                - WDBC-Benign\n",
            "\n",
            "    :Summary Statistics:\n",
            "\n",
            "    ===================================== ====== ======\n",
            "                                           Min    Max\n",
            "    ===================================== ====== ======\n",
            "    radius (mean):                        6.981  28.11\n",
            "    texture (mean):                       9.71   39.28\n",
            "    perimeter (mean):                     43.79  188.5\n",
            "    area (mean):                          143.5  2501.0\n",
            "    smoothness (mean):                    0.053  0.163\n",
            "    compactness (mean):                   0.019  0.345\n",
            "    concavity (mean):                     0.0    0.427\n",
            "    concave points (mean):                0.0    0.201\n",
            "    symmetry (mean):                      0.106  0.304\n",
            "    fractal dimension (mean):             0.05   0.097\n",
            "    radius (standard error):              0.112  2.873\n",
            "    texture (standard error):             0.36   4.885\n",
            "    perimeter (standard error):           0.757  21.98\n",
            "    area (standard error):                6.802  542.2\n",
            "    smoothness (standard error):          0.002  0.031\n",
            "    compactness (standard error):         0.002  0.135\n",
            "    concavity (standard error):           0.0    0.396\n",
            "    concave points (standard error):      0.0    0.053\n",
            "    symmetry (standard error):            0.008  0.079\n",
            "    fractal dimension (standard error):   0.001  0.03\n",
            "    radius (worst):                       7.93   36.04\n",
            "    texture (worst):                      12.02  49.54\n",
            "    perimeter (worst):                    50.41  251.2\n",
            "    area (worst):                         185.2  4254.0\n",
            "    smoothness (worst):                   0.071  0.223\n",
            "    compactness (worst):                  0.027  1.058\n",
            "    concavity (worst):                    0.0    1.252\n",
            "    concave points (worst):               0.0    0.291\n",
            "    symmetry (worst):                     0.156  0.664\n",
            "    fractal dimension (worst):            0.055  0.208\n",
            "    ===================================== ====== ======\n",
            "\n",
            "    :Missing Attribute Values: None\n",
            "\n",
            "    :Class Distribution: 212 - Malignant, 357 - Benign\n",
            "\n",
            "    :Creator:  Dr. William H. Wolberg, W. Nick Street, Olvi L. Mangasarian\n",
            "\n",
            "    :Donor: Nick Street\n",
            "\n",
            "    :Date: November, 1995\n",
            "\n",
            "This is a copy of UCI ML Breast Cancer Wisconsin (Diagnostic) datasets.\n",
            "https://goo.gl/U2Uwz2\n",
            "\n",
            "Features are computed from a digitized image of a fine needle\n",
            "aspirate (FNA) of a breast mass.  They describe\n",
            "characteristics of the cell nuclei present in the image.\n",
            "\n",
            "Separating plane described above was obtained using\n",
            "Multisurface Method-Tree (MSM-T) [K. P. Bennett, \"Decision Tree\n",
            "Construction Via Linear Programming.\" Proceedings of the 4th\n",
            "Midwest Artificial Intelligence and Cognitive Science Society,\n",
            "pp. 97-101, 1992], a classification method which uses linear\n",
            "programming to construct a decision tree.  Relevant features\n",
            "were selected using an exhaustive search in the space of 1-4\n",
            "features and 1-3 separating planes.\n",
            "\n",
            "The actual linear program used to obtain the separating plane\n",
            "in the 3-dimensional space is that described in:\n",
            "[K. P. Bennett and O. L. Mangasarian: \"Robust Linear\n",
            "Programming Discrimination of Two Linearly Inseparable Sets\",\n",
            "Optimization Methods and Software 1, 1992, 23-34].\n",
            "\n",
            "This database is also available through the UW CS ftp server:\n",
            "\n",
            "ftp ftp.cs.wisc.edu\n",
            "cd math-prog/cpo-dataset/machine-learn/WDBC/\n",
            "\n",
            ".. topic:: References\n",
            "\n",
            "   - W.N. Street, W.H. Wolberg and O.L. Mangasarian. Nuclear feature extraction \n",
            "     for breast tumor diagnosis. IS&T/SPIE 1993 International Symposium on \n",
            "     Electronic Imaging: Science and Technology, volume 1905, pages 861-870,\n",
            "     San Jose, CA, 1993.\n",
            "   - O.L. Mangasarian, W.N. Street and W.H. Wolberg. Breast cancer diagnosis and \n",
            "     prognosis via linear programming. Operations Research, 43(4), pages 570-577, \n",
            "     July-August 1995.\n",
            "   - W.H. Wolberg, W.N. Street, and O.L. Mangasarian. Machine learning techniques\n",
            "     to diagnose breast cancer from fine-needle aspirates. Cancer Letters 77 (1994) \n",
            "     163-171.\n"
          ],
          "name": "stdout"
        }
      ]
    },
    {
      "cell_type": "code",
      "metadata": {
        "colab": {
          "base_uri": "https://localhost:8080/"
        },
        "id": "xqaDhGzpCE9I",
        "outputId": "c3469a09-4c12-4eb2-b3bb-9436b584643e"
      },
      "source": [
        "cancer['data'].shape"
      ],
      "execution_count": 7,
      "outputs": [
        {
          "output_type": "execute_result",
          "data": {
            "text/plain": [
              "(569, 30)"
            ]
          },
          "metadata": {
            "tags": []
          },
          "execution_count": 7
        }
      ]
    },
    {
      "cell_type": "code",
      "metadata": {
        "id": "MaGJzu2aCE58"
      },
      "source": [
        "\r\n",
        "x = cancer['data']\r\n",
        "y = cancer['target']"
      ],
      "execution_count": 9,
      "outputs": []
    },
    {
      "cell_type": "code",
      "metadata": {
        "id": "V0Uexxv2CE2t"
      },
      "source": [
        "x_train, x_test, y_train, y_test = train_test_split(x, y)"
      ],
      "execution_count": 10,
      "outputs": []
    },
    {
      "cell_type": "markdown",
      "metadata": {
        "id": "zVu9t2aQNA6d"
      },
      "source": [
        "## Pre-processamento\r\n",
        "\r\n",
        "A rede neural pode ter dificuldade em convergir antes do número máximo de iterações permitidas se os Dados não forem normalizados. O Perceptron de várias camadas é sensível ao dimensionamento dos atributos, por isso é altamente recomendável escalar (padronizar) nossos Dados. Para a normalização dos Dados, vamos usar o ``built-in StandardScaler`` para a padronização. \r\n"
      ]
    },
    {
      "cell_type": "code",
      "metadata": {
        "colab": {
          "base_uri": "https://localhost:8080/"
        },
        "id": "Hy9sM9VYCEu3",
        "outputId": "55abc5da-889c-4f5f-9ea0-943f9e6ada69"
      },
      "source": [
        "# Padronização\r\n",
        "\r\n",
        "scaler = StandardScaler()\r\n",
        "scaler.fit(x_train)\r\n"
      ],
      "execution_count": 11,
      "outputs": [
        {
          "output_type": "execute_result",
          "data": {
            "text/plain": [
              "StandardScaler(copy=True, with_mean=True, with_std=True)"
            ]
          },
          "metadata": {
            "tags": []
          },
          "execution_count": 11
        }
      ]
    },
    {
      "cell_type": "code",
      "metadata": {
        "id": "Bj2KKwx0CEeO"
      },
      "source": [
        "# Aplicando a padronização aos Dados \r\n",
        "\r\n",
        "x_train = scaler.transform(x_train)\r\n",
        "x_test = scaler.transform(x_test)\r\n"
      ],
      "execution_count": 12,
      "outputs": []
    },
    {
      "cell_type": "markdown",
      "metadata": {
        "id": "5NKEKL31Pqob"
      },
      "source": [
        "## Treinamento do Modelo\r\n",
        "\r\n",
        "Agora treinamos nosso modelo. O ``Scikit Learn`` torna isso incrivelmente fácil, usando objetos estimadores.\r\n",
        "\r\n",
        "nosso estimador (o modelo Multi-Layer Perceptron Classifier) da biblioteca neural_network so Scikit-Learn!"
      ]
    },
    {
      "cell_type": "code",
      "metadata": {
        "id": "xxlTWLMoPnZb"
      },
      "source": [
        "from sklearn.neural_network import MLPClassifier"
      ],
      "execution_count": 13,
      "outputs": []
    },
    {
      "cell_type": "markdown",
      "metadata": {
        "id": "hNf6EfmXQuhx"
      },
      "source": [
        "Em seguida, criamos uma instância do modelo, há uma série de parâmetros que você pode escolher para definir e personalizar, aqui vamos definir apenas o ``hidden_layer_sizes``. Para este parâmetro você passa um tupla que consiste no número de neurônios que você quer em cada camada, onde a entrada n-ésima na tupla representa o número de neurônios na n-ésima camada do modelo **MLP**. Há muitas maneiras de escolher esses números, mas, por simplicidade, escolheremos três camadas com o mesmo número de neurônios que existem no nosso conjunto de Dados:  "
      ]
    },
    {
      "cell_type": "code",
      "metadata": {
        "id": "cT2X9rQrQtlH"
      },
      "source": [
        "# Aqui temos três camadas cada uma com 30 neurônios\r\n",
        "\r\n",
        "mlp = MLPClassifier(hidden_layer_sizes=(30, 30, 30))"
      ],
      "execution_count": 14,
      "outputs": []
    },
    {
      "cell_type": "markdown",
      "metadata": {
        "id": "52nzDqb2SpKU"
      },
      "source": [
        "Agora que o modelo foi feito podemos ajustar os Dados de treinamento para o nosso modelo, lembre-se que esses dados ...  processados e dimensionados:"
      ]
    },
    {
      "cell_type": "code",
      "metadata": {
        "colab": {
          "base_uri": "https://localhost:8080/"
        },
        "id": "7H2-uIfaSoO3",
        "outputId": "62fe109c-d0be-4933-b160-f9afcb84b47d"
      },
      "source": [
        "mlp.fit(x_train, y_train)\r\n",
        "\r\n",
        "# Aqui veremos no resultado outros HIPERPARÂMETROS "
      ],
      "execution_count": 15,
      "outputs": [
        {
          "output_type": "execute_result",
          "data": {
            "text/plain": [
              "MLPClassifier(activation='relu', alpha=0.0001, batch_size='auto', beta_1=0.9,\n",
              "              beta_2=0.999, early_stopping=False, epsilon=1e-08,\n",
              "              hidden_layer_sizes=(30, 30, 30), learning_rate='constant',\n",
              "              learning_rate_init=0.001, max_fun=15000, max_iter=200,\n",
              "              momentum=0.9, n_iter_no_change=10, nesterovs_momentum=True,\n",
              "              power_t=0.5, random_state=None, shuffle=True, solver='adam',\n",
              "              tol=0.0001, validation_fraction=0.1, verbose=False,\n",
              "              warm_start=False)"
            ]
          },
          "metadata": {
            "tags": []
          },
          "execution_count": 15
        }
      ]
    },
    {
      "cell_type": "markdown",
      "metadata": {
        "id": "rTd5BeiPThK6"
      },
      "source": [
        "Você pode ver a saída que mostra os valores padrão dos outros parâmetros no modelo. Eu encorajo você a brincar com eles e descobrir quais os efeitos que eles têm em seu modelo! Simbora? Testa outros valores aí ... ok?"
      ]
    },
    {
      "cell_type": "markdown",
      "metadata": {
        "id": "-9fLLg_mT_K_"
      },
      "source": [
        "## Previsões e avaliação"
      ]
    },
    {
      "cell_type": "code",
      "metadata": {
        "id": "L3VLL7M9THcH"
      },
      "source": [
        "predictions = mlp.predict(x_test)"
      ],
      "execution_count": 16,
      "outputs": []
    },
    {
      "cell_type": "markdown",
      "metadata": {
        "id": "JWsDvYvbUmyX"
      },
      "source": [
        "Agora podemos usar as métricas construídas pelo ``Scikit-Learn``, como um relatório de classificação e uma matriz de confusão, para avaliar o desempenho do nosso modelo:"
      ]
    },
    {
      "cell_type": "code",
      "metadata": {
        "id": "h6J_tkfNUlm9"
      },
      "source": [
        " from sklearn.metrics import classification_report, confusion_matrix"
      ],
      "execution_count": 19,
      "outputs": []
    },
    {
      "cell_type": "code",
      "metadata": {
        "colab": {
          "base_uri": "https://localhost:8080/"
        },
        "id": "alJGb_u9VBdi",
        "outputId": "5dac5c80-11ab-42d1-d752-ef7251cd3b01"
      },
      "source": [
        "print(\"Matriz de confusão:\")\r\n",
        "print(confusion_matrix(y_test, predictions))\r\n"
      ],
      "execution_count": 20,
      "outputs": [
        {
          "output_type": "stream",
          "text": [
            "Matriz de confusão:\n",
            "[[47  0]\n",
            " [ 4 92]]\n"
          ],
          "name": "stdout"
        }
      ]
    },
    {
      "cell_type": "markdown",
      "metadata": {
        "id": "MFvAIk52V6my"
      },
      "source": [
        "Parece que somente $4$ tumores foram classificados de forma incorreta, deixando-nos com uma taxa de $98\\%$ de precisão. Isso é muito bom considerando as poucas linhas de código que tivemos de escrever. A desvantagem entretanto em usar um modelo ``Multi-layer Perceptron`` é como difícil é interpretar o próprio modelo. Os pesos e vieses não serão facilmente interpretáveis em relaçãoa quais características são importantes para o próprio modelo.\r\n",
        "\r\n",
        "\r\n",
        "No entanto, se você quiser extrair os pesos e viés (bias) do MLP após o treinamento do seu modelo, você usa seus atributos públicos ``coefs_`` e ``intercepts_``."
      ]
    },
    {
      "cell_type": "code",
      "metadata": {
        "id": "KhTihRfNVn-8"
      },
      "source": [
        ""
      ],
      "execution_count": null,
      "outputs": []
    }
  ]
}